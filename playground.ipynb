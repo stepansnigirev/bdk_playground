{
 "cells": [
  {
   "cell_type": "code",
   "execution_count": 1,
   "id": "04dc34de",
   "metadata": {},
   "outputs": [],
   "source": [
    "import bdkpython as bdk\n",
    "# network\n",
    "net = bdk.Network.REGTEST"
   ]
  },
  {
   "cell_type": "code",
   "execution_count": 2,
   "id": "630372e3",
   "metadata": {},
   "outputs": [
    {
     "data": {
      "text/plain": [
       "'imitate merit fox title blade reward shift comfort imitate merit fox tip'"
      ]
     },
     "execution_count": 2,
     "metadata": {},
     "output_type": "execute_result"
    }
   ],
   "source": [
    "# generate mnemonic from entropy\n",
    "entropy = b\"q\"*16\n",
    "mnemonic = bdk.Mnemonic.from_entropy(entropy)\n",
    "mnemonic.as_string()"
   ]
  },
  {
   "cell_type": "code",
   "execution_count": 3,
   "id": "3f0aac30",
   "metadata": {},
   "outputs": [
    {
     "data": {
      "text/plain": [
       "'tprv8ZgxMBicQKsPf1D2Rt3JBKp8KEpMiKTDxaRiBHJZ4YtTxhtgj3XCEifvBewPeN5GXTtZS7S4NFmFSWhKg2g1EhsHeXgYPdmyeYMLWW1ywH4/*'"
      ]
     },
     "execution_count": 3,
     "metadata": {},
     "output_type": "execute_result"
    }
   ],
   "source": [
    "# calculate root private key\n",
    "root = bdk.DescriptorSecretKey(net, mnemonic, None)\n",
    "root.as_string()"
   ]
  },
  {
   "cell_type": "code",
   "execution_count": 4,
   "id": "5f9670b4",
   "metadata": {},
   "outputs": [
    {
     "data": {
      "text/plain": [
       "bdkpython.bdk.BlockchainConfig.ESPLORA"
      ]
     },
     "execution_count": 4,
     "metadata": {},
     "output_type": "execute_result"
    }
   ],
   "source": [
    "# wallet name\n",
    "wname = \"test\"\n",
    "\n",
    "# database config. available: MEMORY, SQLITE(path), SLED\n",
    "\n",
    "# In-memory database:\n",
    "db_config = bdk.DatabaseConfig.MEMORY()\n",
    "\n",
    "# SQLite database:\n",
    "# db_config = bdk.DatabaseConfig.SQLITE(\n",
    "#     bdk.SqliteDbConfiguration(\n",
    "#         f\"{wname}.sqlite\" # path to sqlite file\n",
    "#     )\n",
    "# )\n",
    "\n",
    "# SLED database:\n",
    "# db_config = bdk.DatabaseConfig.SLED(\n",
    "#     bdk.SledDbConfiguration(\n",
    "#         f\"wallets\", # path to database\n",
    "#         wname # tree name (wallet name for example)\n",
    "#     )\n",
    "# )\n",
    "\n",
    "# Electrum backend\n",
    "# blockchain_config = bdk.BlockchainConfig.ELECTRUM(\n",
    "#     bdk.ElectrumConfig(\n",
    "#         \"ssl://electrum.blockstream.info:60002\", # url\n",
    "#         None, # socks5\n",
    "#         5, # retry\n",
    "#         None, # timeout\n",
    "#         100, # stop gap\n",
    "#         True, # validate domain\n",
    "#     )\n",
    "# )\n",
    "\n",
    "# Bitcoin Core backend\n",
    "blockchain_config = bdk.BlockchainConfig.RPC(\n",
    "    bdk.RpcConfig(\n",
    "        \"127.0.0.1:18443\", # url\n",
    "        bdk.Auth.USER_PASS(\"bitcoin\",\"secret\"), #auth\n",
    "        net, # network\n",
    "        wname, # Bitcoin Core wallet\n",
    "        None, # sync params (https://docs.rs/bdk/latest/bdk/blockchain/rpc/struct.RpcSyncParams.html)\n",
    "    )\n",
    ")\n",
    "\n",
    "blockchain = bdk.Blockchain(blockchain_config)\n"
   ]
  },
  {
   "cell_type": "code",
   "execution_count": 5,
   "id": "3521f4b1",
   "metadata": {},
   "outputs": [],
   "source": [
    "# create signer\n",
    "k1 = root.derive(bdk.DerivationPath(\"m/84h/1h/0h/0\"))\n",
    "k2 = root.derive(bdk.DerivationPath(\"m/84h/1h/0h/1\"))\n",
    "pdesc1 = bdk.Descriptor(f\"wpkh({k1.as_string()})\", net)\n",
    "pdesc2 = bdk.Descriptor(f\"wpkh({k2.as_string()})\", net)\n",
    "signer = bdk.Wallet(\n",
    "    descriptor=pdesc1,\n",
    "    change_descriptor=pdesc2,\n",
    "    network=net,\n",
    "    database_config=db_config\n",
    ")"
   ]
  },
  {
   "cell_type": "code",
   "execution_count": 6,
   "id": "14d9842f",
   "metadata": {},
   "outputs": [
    {
     "data": {
      "text/plain": [
       "(\"wpkh([6d771ec1/84'/1'/0']tpubDCJbNvJTpXKSuShm4Gid6tSSNYg5mY8spTxAGBQi4CfoDVc8oJFZgPMaC4RyiLeVP8U5tzoYYWGtaBfMTiLyRSzT1tcxSq1iMYCPt13aNie/0/*)#43rxnv36\",\n",
       " \"wpkh([6d771ec1/84'/1'/0']tpubDCJbNvJTpXKSuShm4Gid6tSSNYg5mY8spTxAGBQi4CfoDVc8oJFZgPMaC4RyiLeVP8U5tzoYYWGtaBfMTiLyRSzT1tcxSq1iMYCPt13aNie/1/*)#y9x8wepz\")"
      ]
     },
     "execution_count": 6,
     "metadata": {},
     "output_type": "execute_result"
    }
   ],
   "source": [
    "# create receive and change descriptors:\n",
    "acc = root.derive(bdk.DerivationPath(\"m/84h/1h/0h\"))\n",
    "xpub = acc.as_public().as_string().replace(\"/*\",\"\")\n",
    "recv_descriptor = bdk.Descriptor(f\"wpkh({xpub}/0/*)\", net)\n",
    "change_descriptor = bdk.Descriptor(f\"wpkh({xpub}/1/*)\", net)\n",
    "\n",
    "recv_descriptor.as_string(), change_descriptor.as_string()"
   ]
  },
  {
   "cell_type": "code",
   "execution_count": 7,
   "id": "d960123d",
   "metadata": {},
   "outputs": [
    {
     "name": "stdout",
     "output_type": "stream",
     "text": [
      "AddressInfo(index=0, address=bcrt1qt662q8wcu75fkna2ftyktkyn9wynp736aktkkr)\n"
     ]
    }
   ],
   "source": [
    "wallet = bdk.Wallet(\n",
    "    descriptor=recv_descriptor,\n",
    "    change_descriptor=change_descriptor,\n",
    "    network=net,\n",
    "    database_config=db_config\n",
    ")\n",
    "address_info = wallet.get_address(bdk.AddressIndex.LAST_UNUSED)\n",
    "address = address_info.address\n",
    "print(address_info)"
   ]
  },
  {
   "cell_type": "code",
   "execution_count": 8,
   "id": "aa6ccc29",
   "metadata": {},
   "outputs": [],
   "source": [
    "wallet.sync(blockchain, None)\n",
    "balance = wallet.get_balance()"
   ]
  },
  {
   "cell_type": "code",
   "execution_count": 9,
   "id": "80e2cd6e",
   "metadata": {},
   "outputs": [
    {
     "data": {
      "text/plain": [
       "98999828"
      ]
     },
     "execution_count": 9,
     "metadata": {},
     "output_type": "execute_result"
    }
   ],
   "source": [
    "balance.confirmed"
   ]
  },
  {
   "cell_type": "code",
   "execution_count": 10,
   "id": "6dd136ae",
   "metadata": {},
   "outputs": [
    {
     "data": {
      "text/plain": [
       "'bcrt1q7w94rp03v0fyx9f5cdyd4wne8zze0n08ztzhsz'"
      ]
     },
     "execution_count": 10,
     "metadata": {},
     "output_type": "execute_result"
    }
   ],
   "source": [
    "wallet.get_address(bdk.AddressIndex(2)).address"
   ]
  },
  {
   "cell_type": "code",
   "execution_count": null,
   "id": "2e95b391",
   "metadata": {},
   "outputs": [],
   "source": [
    "# send 1M sat to bcrt1q6yyrmlxllr3msxwc562s6hwa9ah2p00spmveat\n",
    "addr = bdk.Address(\"bcrt1q6yyrmlxllr3msxwc562s6hwa9ah2p00spmveat\")\n",
    "# tx builder requires chaining or re-assigning\n",
    "tx_builder = bdk.TxBuilder()\n",
    "tx_builder = tx_builder.add_recipient(addr.script_pubkey(), 1e6)\n",
    "# set fee rate in sat_per_vbyte\n",
    "tx_builder = tx_builder.fee_rate(1.2)\n",
    "# enable replace by fee\n",
    "tx_builder = tx_builder.enable_rbf()\n",
    "# specify utxos if you want\n",
    "tx_builder.add_utxo(wallet.list_unspent()[0].outpoint)\n",
    "# create transaction using wallet\n",
    "res = tx_builder.finish(wallet)"
   ]
  },
  {
   "cell_type": "code",
   "execution_count": null,
   "id": "2072e6e4",
   "metadata": {},
   "outputs": [],
   "source": [
    "psbt1 = res.psbt"
   ]
  },
  {
   "cell_type": "code",
   "execution_count": null,
   "id": "37662775",
   "metadata": {},
   "outputs": [],
   "source": [
    "# get spent amount:\n",
    "res.transaction_details.sent - res.transaction_details.received"
   ]
  },
  {
   "cell_type": "code",
   "execution_count": null,
   "id": "bac36bef",
   "metadata": {},
   "outputs": [],
   "source": [
    "res.transaction_details.fee"
   ]
  },
  {
   "cell_type": "code",
   "execution_count": null,
   "id": "d726a8ff",
   "metadata": {},
   "outputs": [],
   "source": [
    "# sign transaction - this method mutates transaction, so we copy it first\n",
    "psbt2 = bdk.PartiallySignedTransaction(psbt1.serialize())\n",
    "signer.sign(psbt2)"
   ]
  },
  {
   "cell_type": "code",
   "execution_count": null,
   "id": "31efc477",
   "metadata": {},
   "outputs": [],
   "source": [
    "combined = psbt1.combine(psbt2)\n",
    "combined.serialize()"
   ]
  },
  {
   "cell_type": "code",
   "execution_count": null,
   "id": "7576a2a8",
   "metadata": {},
   "outputs": [],
   "source": [
    "# get raw transaction for broadcasting\n",
    "tx = combined.extract_tx()\n",
    "bytes(tx).hex()"
   ]
  },
  {
   "cell_type": "code",
   "execution_count": null,
   "id": "85639298",
   "metadata": {},
   "outputs": [],
   "source": [
    "blockchain.broadcast(combined)"
   ]
  },
  {
   "cell_type": "code",
   "execution_count": null,
   "id": "d1e5b319",
   "metadata": {},
   "outputs": [],
   "source": [
    "combined.txid()"
   ]
  },
  {
   "cell_type": "code",
   "execution_count": null,
   "id": "c2360990",
   "metadata": {},
   "outputs": [],
   "source": [
    "txs = wallet.list_transactions()\n",
    "txs"
   ]
  },
  {
   "cell_type": "code",
   "execution_count": null,
   "id": "483a4664",
   "metadata": {},
   "outputs": [],
   "source": [
    "tx = txs[0]"
   ]
  },
  {
   "cell_type": "code",
   "execution_count": null,
   "id": "84e8bc27",
   "metadata": {},
   "outputs": [],
   "source": [
    "tx.received, tx.sent, tx.fee, tx.txid"
   ]
  },
  {
   "cell_type": "code",
   "execution_count": null,
   "id": "4dd3666f",
   "metadata": {},
   "outputs": [],
   "source": []
  }
 ],
 "metadata": {
  "kernelspec": {
   "display_name": "Python 3 (ipykernel)",
   "language": "python",
   "name": "python3"
  },
  "language_info": {
   "codemirror_mode": {
    "name": "ipython",
    "version": 3
   },
   "file_extension": ".py",
   "mimetype": "text/x-python",
   "name": "python",
   "nbconvert_exporter": "python",
   "pygments_lexer": "ipython3",
   "version": "3.8.10"
  }
 },
 "nbformat": 4,
 "nbformat_minor": 5
}
